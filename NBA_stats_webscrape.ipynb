{
 "cells": [
  {
   "cell_type": "code",
   "execution_count": 2,
   "id": "5332e9f9-c120-47ca-96c2-c452471bb83b",
   "metadata": {},
   "outputs": [],
   "source": [
    "import os\n",
    "from bs4 import BeautifulSoup\n",
    "from playwright.async_api import async_playwright, TimeoutError as pwt\n",
    "import time\n",
    "import asyncio"
   ]
  },
  {
   "cell_type": "code",
   "execution_count": 3,
   "id": "1ca308e3-e06c-4940-a19e-c7d21eada678",
   "metadata": {},
   "outputs": [],
   "source": [
    "seasons = list(range(2016,2024)) # defining the range of seasons we are interested in"
   ]
  },
  {
   "cell_type": "code",
   "execution_count": 4,
   "id": "a6907288-494d-4d24-aba8-c67e96519586",
   "metadata": {},
   "outputs": [],
   "source": [
    "data_dir = 'data' # specifying the directories where data will be saved \n",
    "standings_dir = os.path.join(data_dir,'standings') # a directory inside of data_dir that will have lists of all the box scores\n",
    "scores_dir = os.path.join(data_dir, 'scores')# this directory will store the box scores from each game "
   ]
  },
  {
   "cell_type": "code",
   "execution_count": 5,
   "id": "512dbe76-ac72-413e-b1db-3ffbca2da24c",
   "metadata": {},
   "outputs": [],
   "source": [
    "# creating a function that gets HTML from a webpage.\n",
    "# use 'async def' keyword means that this is an asynchronous function, which can be paused and resumed, allowing other tasks to run in the meantime. \n",
    "# it retries the operation if it fails, with a delay that increases with each attempt\n",
    "async def get_html(url, selector, sleep=5, retries=1): \n",
    "    html = None\n",
    "    for i in range(1, retries+1):\n",
    "        await asyncio.sleep(sleep * i)  \n",
    "        try:\n",
    "            async with async_playwright() as p:\n",
    "                browser = await p.chromium.launch()\n",
    "                page = await browser.new_page()\n",
    "                await page.goto(url, timeout = 100000)\n",
    "                print(await page.title())\n",
    "                html = await page.inner_html(selector, timeout =100000 )\n",
    "\n",
    "        # Catching all exceptions and printing them\n",
    "        except Exception as e:  \n",
    "            print(f\"Error on {url}: {e}\")\n",
    "            continue\n",
    "\n",
    "        else:\n",
    "            break\n",
    "\n",
    "    return html\n"
   ]
  },
  {
   "cell_type": "code",
   "execution_count": 6,
   "id": "2b6f12a8-4209-43c2-a0e8-94aff5bbf94b",
   "metadata": {},
   "outputs": [],
   "source": [
    "# this function scrapes the webpage for a specific NBA season, saves the HTML for each game, and then extracts and saves the links to the standings page for each game.\n",
    "async def scrape_season(season):\n",
    "    url = f\"https://www.basketball-reference.com/leagues/NBA_{season}_games.html\"\n",
    "    html = await get_html(url, \"#content .filter\")\n",
    "    \n",
    "    soup = BeautifulSoup(html)\n",
    "    links = soup.find_all(\"a\")\n",
    "    standings_pages = [f\"https://www.basketball-reference.com{l['href']}\" for l in links]\n",
    "    \n",
    "    for url in standings_pages:\n",
    "        save_path = os.path.join(standings_dir, url.split(\"/\")[-1])\n",
    "        if os.path.exists(save_path):\n",
    "            continue\n",
    "        \n",
    "        html = await get_html(url, \"#all_schedule\")\n",
    "        with open(save_path, \"w+\") as f:\n",
    "            f.write(html)"
   ]
  },
  {
   "cell_type": "code",
   "execution_count": 7,
   "id": "06642b66-fa7c-490a-934b-4c3dd5cd86a6",
   "metadata": {},
   "outputs": [
    {
     "name": "stdout",
     "output_type": "stream",
     "text": [
      "2015-16 NBA Schedule | Basketball-Reference.com\n",
      "2016-17 NBA Schedule | Basketball-Reference.com\n",
      "2017-18 NBA Schedule | Basketball-Reference.com\n",
      "2018-19 NBA Schedule | Basketball-Reference.com\n",
      "2019-20 NBA Schedule | Basketball-Reference.com\n",
      "2020-21 NBA Schedule | Basketball-Reference.com\n",
      "2021-22 NBA Schedule | Basketball-Reference.com\n",
      "2022-23 NBA Schedule | Basketball-Reference.com\n"
     ]
    }
   ],
   "source": [
    "# this runs the scraping function for each season defined at the start.\n",
    "# 'await' keyword is used because 'scrape_season' is an asynchronous function.\n",
    "for season in seasons:\n",
    "    await scrape_season(season)"
   ]
  },
  {
   "cell_type": "code",
   "execution_count": 8,
   "id": "e0ac7e72-acdc-4698-b4cc-eb96b9fa8bd6",
   "metadata": {},
   "outputs": [],
   "source": [
    "# use the 'os' module to get a list of all the files in the 'standings_dir' directory\n",
    "standings_files = os.listdir(standings_dir)"
   ]
  },
  {
   "cell_type": "code",
   "execution_count": 9,
   "id": "129965ab-37c6-4194-95e5-709478748509",
   "metadata": {},
   "outputs": [],
   "source": [
    "# this function reads the HTML of a standings file, extracts and saves the links to the box score page for each game, and then gets and saves the HTML for each box score page\n",
    "async def scrape_game(standings_file):\n",
    "    with open(standings_file, 'r') as f:\n",
    "        html = f.read()\n",
    "\n",
    "    soup = BeautifulSoup(html)\n",
    "    links = soup.find_all(\"a\")\n",
    "    hrefs = [l.get('href') for l in links]\n",
    "    box_scores = [f\"https://www.basketball-reference.com{l}\" for l in hrefs if l and \"boxscore\" in l and '.html' in l]\n",
    "\n",
    "    for url in box_scores:\n",
    "        save_path = os.path.join(scores_dir, url.split(\"/\")[-1])\n",
    "        if os.path.exists(save_path):\n",
    "            continue\n",
    "\n",
    "        html = await get_html(url, \"#content\")\n",
    "        if not html: # in the case there is no HTMl, continue running the function\n",
    "            continue\n",
    "        with open(save_path, \"w+\") as f:\n",
    "            f.write(html)"
   ]
  },
  {
   "cell_type": "code",
   "execution_count": 11,
   "id": "95e47b99-596f-4993-b4b9-394002d5155f",
   "metadata": {},
   "outputs": [
    {
     "name": "stdout",
     "output_type": "stream",
     "text": [
      "Grizzlies vs Jazz, April 5, 2022 | Basketball-Reference.com\n"
     ]
    }
   ],
   "source": [
    "# here we are looping over each NBA season, finding all the files related to that season, \n",
    "# creating a full file path for each file, and then calling a function to scrape data from each file.\n",
    "import pandas as pd\n",
    "\n",
    "for season in seasons:\n",
    "    files = [s for s in standings_files if str(season) in s]\n",
    "    \n",
    "    for f in files:\n",
    "        filepath = os.path.join(standings_dir, f)\n",
    "        \n",
    "        await scrape_game(filepath)"
   ]
  },
  {
   "cell_type": "code",
   "execution_count": null,
   "id": "9ee2f332-dc43-419e-8cd2-2f724254a4f5",
   "metadata": {},
   "outputs": [],
   "source": []
  }
 ],
 "metadata": {
  "kernelspec": {
   "display_name": "Python 3 (ipykernel)",
   "language": "python",
   "name": "python3"
  },
  "language_info": {
   "codemirror_mode": {
    "name": "ipython",
    "version": 3
   },
   "file_extension": ".py",
   "mimetype": "text/x-python",
   "name": "python",
   "nbconvert_exporter": "python",
   "pygments_lexer": "ipython3",
   "version": "3.9.7"
  }
 },
 "nbformat": 4,
 "nbformat_minor": 5
}
